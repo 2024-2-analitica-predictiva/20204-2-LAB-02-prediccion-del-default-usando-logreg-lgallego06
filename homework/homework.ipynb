{
 "cells": [
  {
   "cell_type": "code",
   "execution_count": 1,
   "metadata": {},
   "outputs": [],
   "source": [
    "import pandas as pd\n",
    "\n",
    "\n",
    "test_data = pd.read_csv(\n",
    "    \"../files/input/test_data.csv.zip\",\n",
    "    index_col=False,\n",
    "    compression=\"zip\",\n",
    ")\n",
    "\n",
    "train_data = pd.read_csv(\n",
    "    \"../files/input/train_data.csv.zip\",\n",
    "    index_col=False,\n",
    "    compression=\"zip\",\n",
    ")"
   ]
  },
  {
   "cell_type": "code",
   "execution_count": 2,
   "metadata": {},
   "outputs": [
    {
     "name": "stdout",
     "output_type": "stream",
     "text": [
      "Index(['ID', 'LIMIT_BAL', 'SEX', 'EDUCATION', 'MARRIAGE', 'AGE', 'PAY_0',\n",
      "       'PAY_2', 'PAY_3', 'PAY_4', 'PAY_5', 'PAY_6', 'BILL_AMT1', 'BILL_AMT2',\n",
      "       'BILL_AMT3', 'BILL_AMT4', 'BILL_AMT5', 'BILL_AMT6', 'PAY_AMT1',\n",
      "       'PAY_AMT2', 'PAY_AMT3', 'PAY_AMT4', 'PAY_AMT5', 'PAY_AMT6', 'default'],\n",
      "      dtype='object')\n"
     ]
    }
   ],
   "source": [
    "# - Renombre la columna \"default payment next month\" a \"default\".\n",
    "test_data = test_data.rename(columns={'default payment next month': 'default'})\n",
    "train_data = train_data.rename(columns={'default payment next month': 'default'})\n",
    "\n",
    "print(test_data.columns)"
   ]
  },
  {
   "cell_type": "code",
   "execution_count": 3,
   "metadata": {},
   "outputs": [],
   "source": [
    "# - Remueva la columna \"ID\".\n",
    "test_data=test_data.drop(columns=['ID'])\n",
    "train_data=train_data.drop(columns=['ID'])"
   ]
  },
  {
   "cell_type": "code",
   "execution_count": 4,
   "metadata": {},
   "outputs": [
    {
     "name": "stdout",
     "output_type": "stream",
     "text": [
      "EDUCATION\n",
      "2    9756\n",
      "1    7476\n",
      "3    3396\n",
      "5     187\n",
      "4      98\n",
      "6      40\n",
      "Name: count, dtype: int64\n",
      "MARRIAGE\n",
      "2    11226\n",
      "1     9502\n",
      "3      225\n",
      "Name: count, dtype: int64\n",
      "EDUCATION\n",
      "2    4268\n",
      "1    3105\n",
      "3    1477\n",
      "5      93\n",
      "4      25\n",
      "6      11\n",
      "Name: count, dtype: int64\n",
      "MARRIAGE\n",
      "2    4728\n",
      "1    4153\n",
      "3      98\n",
      "Name: count, dtype: int64\n"
     ]
    }
   ],
   "source": [
    "# - Elimine los registros con informacion no disponible.\n",
    "\n",
    "import numpy as np\n",
    "\n",
    "# Para train_data\n",
    "train_data = train_data.loc[train_data[\"MARRIAGE\"] != 0]\n",
    "train_data = train_data.loc[train_data[\"EDUCATION\"] != 0]\n",
    "print(train_data[\"EDUCATION\"].value_counts())\n",
    "print(train_data[\"MARRIAGE\"].value_counts())\n",
    "\n",
    "# Para test_data (corregido)\n",
    "test_data = test_data.loc[test_data[\"MARRIAGE\"] != 0]\n",
    "test_data = test_data.loc[test_data[\"EDUCATION\"] != 0]\n",
    "print(test_data[\"EDUCATION\"].value_counts())\n",
    "print(test_data[\"MARRIAGE\"].value_counts())"
   ]
  },
  {
   "cell_type": "code",
   "execution_count": 5,
   "metadata": {},
   "outputs": [
    {
     "name": "stdout",
     "output_type": "stream",
     "text": [
      "EDUCATION\n",
      "2    9756\n",
      "1    7476\n",
      "3    3396\n",
      "4     325\n",
      "Name: count, dtype: int64\n",
      "EDUCATION\n",
      "2    4268\n",
      "1    3105\n",
      "3    1477\n",
      "4     129\n",
      "Name: count, dtype: int64\n"
     ]
    }
   ],
   "source": [
    "# - Para la columna EDUCATION, valores > 4 indican niveles superiores\n",
    "test_data['EDUCATION'] = test_data['EDUCATION'].apply(lambda x: 4 if x > 4 else x)\n",
    "train_data['EDUCATION'] = train_data['EDUCATION'].apply(lambda x: 4 if x > 4 else x)\n",
    "\n",
    "print(train_data[\"EDUCATION\"].value_counts())\n",
    "print(test_data[\"EDUCATION\"].value_counts())"
   ]
  },
  {
   "cell_type": "code",
   "execution_count": 6,
   "metadata": {},
   "outputs": [],
   "source": [
    "# Divida los datasets en x_train, y_train, x_test, y_test.\n",
    "x_train=train_data.drop(columns=\"default\")\n",
    "y_train=train_data[\"default\"]\n",
    "\n",
    "\n",
    "x_test=test_data.drop(columns=\"default\")\n",
    "y_test=test_data[\"default\"]"
   ]
  },
  {
   "cell_type": "code",
   "execution_count": 7,
   "metadata": {},
   "outputs": [],
   "source": [
    "from sklearn.compose import ColumnTransformer\n",
    "from sklearn.pipeline import Pipeline\n",
    "from sklearn.preprocessing import OneHotEncoder, MinMaxScaler\n",
    "from sklearn.feature_selection import SelectKBest, f_classif\n",
    "from sklearn.linear_model import LogisticRegression\n",
    "from sklearn.ensemble import RandomForestClassifier\n",
    "from sklearn.preprocessing import StandardScaler\n",
    "\n",
    "# Columnas categóricas\n",
    "categorical_features = [\"SEX\", \"EDUCATION\", \"MARRIAGE\"]\n",
    "\n",
    "# Preprocesador: OneHotEncoding para categóricas, escalar numéricas\n",
    "preprocessor = ColumnTransformer(\n",
    "    transformers=[\n",
    "        ('cat', OneHotEncoder(), categorical_features),  # One-hot encoding para categóricas\n",
    "        ('num', MinMaxScaler(), 'passthrough')          # Escalado para numéricas\n",
    "    ],\n",
    "    remainder=\"passthrough\"  # Mantener las columnas no especificadas\n",
    ")\n",
    "\n",
    "# Crear el pipeline con un preprocesador (por ejemplo, StandardScaler) y LogisticRegression\n",
    "pipeline = Pipeline([\n",
    "    ('preprocessor', ColumnTransformer([\n",
    "        ('scaler', StandardScaler(), x_train.columns)  # O cualquier transformación que necesites\n",
    "    ])),\n",
    "    ('classifier', LogisticRegression())  # Este es el clasificador que será optimizado\n",
    "])\n",
    "\n"
   ]
  },
  {
   "cell_type": "code",
   "execution_count": 8,
   "metadata": {},
   "outputs": [
    {
     "name": "stdout",
     "output_type": "stream",
     "text": [
      "Mejores parámetros: {'classifier__C': 10, 'classifier__max_iter': 100, 'classifier__penalty': 'l2', 'classifier__solver': 'lbfgs'}\n",
      "Mejor puntuación: 0.6036920232769496\n"
     ]
    }
   ],
   "source": [
    "\n",
    "from sklearn.model_selection import GridSearchCV\n",
    "from sklearn.metrics import make_scorer, balanced_accuracy_score\n",
    "from sklearn.compose import ColumnTransformer\n",
    "\n",
    "# Definir los hiperparámetros a optimizar para LogisticRegression\n",
    "param_grid = {\n",
    "    'classifier__C': [0.1, 1, 10],  # Regularización (tamaño del parámetro)\n",
    "    'classifier__solver': ['lbfgs', 'liblinear'],  # Solucionadores\n",
    "    'classifier__penalty': ['l2'],   # Penalización L2 (común en regresión logística)\n",
    "    'classifier__max_iter': [100, 200]  # Número máximo de iteraciones\n",
    "}\n",
    "\n",
    "# Crear la función de puntuación\n",
    "scorer = make_scorer(balanced_accuracy_score)\n",
    "\n",
    "# Modelo con GridSearchCV\n",
    "model = GridSearchCV(\n",
    "    pipeline,\n",
    "    param_grid,\n",
    "    cv=10,                       # Validación cruzada de 10 divisiones\n",
    "    scoring=scorer,              # Función de evaluación\n",
    "    n_jobs=-1,                   # Usar todos los núcleos disponibles\n",
    "    refit=True                   # Ajustar al mejor modelo\n",
    ")\n",
    "\n",
    "# Entrenar el modelo\n",
    "model.fit(x_train, y_train)\n",
    "\n",
    "# Mejor modelo y mejores hiperparámetros\n",
    "print(\"Mejores parámetros:\", model.best_params_)\n",
    "print(\"Mejor puntuación:\", model.best_score_)\n"
   ]
  },
  {
   "cell_type": "code",
   "execution_count": 9,
   "metadata": {},
   "outputs": [],
   "source": [
    "import pickle\n",
    "import os\n",
    "\n",
    "models_dir = '../files/models'\n",
    "os.makedirs(models_dir, exist_ok=True)\n",
    "\n",
    "with open(\"../files/models/model.pkl\",\"wb\") as file:\n",
    "    pickle.dump(model,file)\n"
   ]
  },
  {
   "cell_type": "code",
   "execution_count": 10,
   "metadata": {},
   "outputs": [],
   "source": [
    "import json\n",
    "from sklearn.metrics import precision_score, recall_score, f1_score, balanced_accuracy_score\n",
    "\n",
    "def calculate_and_save_metrics(model, X_train, X_test, y_train, y_test):\n",
    "    # Hacer predicciones\n",
    "    y_train_pred = model.predict(X_train)\n",
    "    y_test_pred = model.predict(X_test)\n",
    "\n",
    "    # Calcular métricas para el conjunto de entrenamiento\n",
    "    metrics_train = {\n",
    "        'type': 'metrics',\n",
    "        'dataset': 'train',\n",
    "        'precision': precision_score(y_train, y_train_pred, zero_division=0),\n",
    "        'balanced_accuracy': balanced_accuracy_score(y_train, y_train_pred),\n",
    "        'recall': recall_score(y_train, y_train_pred, zero_division=0),\n",
    "        'f1_score': f1_score(y_train, y_train_pred, zero_division=0)\n",
    "    }\n",
    "\n",
    "    # Calcular métricas para el conjunto de prueba\n",
    "    metrics_test = {\n",
    "        'type': 'metrics',\n",
    "        'dataset': 'test',\n",
    "        'precision': precision_score(y_test, y_test_pred, zero_division=0),\n",
    "        'balanced_accuracy': balanced_accuracy_score(y_test, y_test_pred),\n",
    "        'recall': recall_score(y_test, y_test_pred, zero_division=0),\n",
    "        'f1_score': f1_score(y_test, y_test_pred, zero_division=0)\n",
    "    }\n",
    "\n",
    "    # Crear carpeta si no existe\n",
    "    output_dir = '../files/output'\n",
    "    os.makedirs(output_dir, exist_ok=True)\n",
    "\n",
    "    # Guardar las métricas en un archivo JSON\n",
    "    output_path = os.path.join(output_dir, 'metrics.json')\n",
    "    with open(output_path, 'w') as f:  # Usar 'w' para comenzar con un archivo limpio\n",
    "        f.write(json.dumps(metrics_train) + '\\n')\n",
    "        f.write(json.dumps(metrics_test) + '\\n')"
   ]
  },
  {
   "cell_type": "code",
   "execution_count": 11,
   "metadata": {},
   "outputs": [],
   "source": [
    "from sklearn.metrics import confusion_matrix\n",
    "# Función para calcular las matrices de confusión y guardarlas\n",
    "def calculate_and_save_confusion_matrices(model, X_train, X_test, y_train, y_test):\n",
    "    # Hacer predicciones\n",
    "    y_train_pred = model.predict(X_train)\n",
    "    y_test_pred = model.predict(X_test)\n",
    "\n",
    "    # Calcular matrices de confusión\n",
    "    cm_train = confusion_matrix(y_train, y_train_pred)\n",
    "    cm_test = confusion_matrix(y_test, y_test_pred)\n",
    "\n",
    "    # Convertir las matrices de confusión en formato JSON\n",
    "    def format_confusion_matrix(cm, dataset_type):\n",
    "        return {\n",
    "            'type': 'cm_matrix',\n",
    "            'dataset': dataset_type,\n",
    "            'true_0': {\n",
    "                'predicted_0': int(cm[0, 0]),\n",
    "                'predicted_1': int(cm[0, 1])\n",
    "            },\n",
    "            'true_1': {\n",
    "                'predicted_0': int(cm[1, 0]),\n",
    "                'predicted_1': int(cm[1, 1])\n",
    "            }\n",
    "        }\n",
    "\n",
    "    metrics = [\n",
    "        format_confusion_matrix(cm_train, 'train'),\n",
    "        format_confusion_matrix(cm_test, 'test')\n",
    "    ]\n",
    "\n",
    "    # Guardar las matrices de confusión en el mismo archivo JSON\n",
    "    output_path = '../files/output/metrics.json'\n",
    "    with open(output_path, 'a') as f:  # Usar 'a' para agregar después de las métricas\n",
    "        for metric in metrics:\n",
    "            f.write(json.dumps(metric) + '\\n')\n",
    "\n",
    "# Función principal para ejecutar todo\n",
    "def main(model, X_train, X_test, y_train, y_test):\n",
    "    # Crear el directorio de salida si no existe\n",
    "    import os\n",
    "    os.makedirs('../files/output', exist_ok=True)\n",
    "\n",
    "    # Calcular y guardar las métricas\n",
    "    calculate_and_save_metrics(model, X_train, X_test, y_train, y_test)\n",
    "\n",
    "    # Calcular y guardar las matrices de confusión\n",
    "    calculate_and_save_confusion_matrices(model, X_train, X_test, y_train, y_test)\n",
    "\n",
    "# Ejemplo de uso:\n",
    "main(model, x_train, x_test, y_train, y_test)"
   ]
  },
  {
   "cell_type": "code",
   "execution_count": null,
   "metadata": {},
   "outputs": [],
   "source": []
  }
 ],
 "metadata": {
  "kernelspec": {
   "display_name": "Python 3",
   "language": "python",
   "name": "python3"
  },
  "language_info": {
   "codemirror_mode": {
    "name": "ipython",
    "version": 3
   },
   "file_extension": ".py",
   "mimetype": "text/x-python",
   "name": "python",
   "nbconvert_exporter": "python",
   "pygments_lexer": "ipython3",
   "version": "3.9.10"
  }
 },
 "nbformat": 4,
 "nbformat_minor": 2
}
